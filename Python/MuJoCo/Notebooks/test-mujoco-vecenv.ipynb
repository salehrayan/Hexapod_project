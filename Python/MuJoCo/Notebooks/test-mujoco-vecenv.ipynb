{
 "metadata": {
  "kernelspec": {
   "language": "python",
   "display_name": "Python 3",
   "name": "python3"
  },
  "language_info": {
   "name": "python",
   "version": "3.10.13",
   "mimetype": "text/x-python",
   "codemirror_mode": {
    "name": "ipython",
    "version": 3
   },
   "pygments_lexer": "ipython3",
   "nbconvert_exporter": "python",
   "file_extension": ".py"
  },
  "kaggle": {
   "accelerator": "none",
   "dataSources": [],
   "dockerImageVersionId": 30733,
   "isInternetEnabled": true,
   "language": "python",
   "sourceType": "notebook",
   "isGpuEnabled": false
  }
 },
 "nbformat_minor": 4,
 "nbformat": 4,
 "cells": [
  {
   "cell_type": "code",
   "source": [
    "!conda install -y gdown\n",
    "!gdown 1i6gsJch1_Odnz-ddqGQzpakD5mowwx-6"
   ],
   "metadata": {
    "execution": {
     "iopub.status.busy": "2024-06-28T16:51:20.909098Z",
     "iopub.execute_input": "2024-06-28T16:51:20.909473Z",
     "iopub.status.idle": "2024-06-28T16:53:02.156535Z",
     "shell.execute_reply.started": "2024-06-28T16:51:20.909442Z",
     "shell.execute_reply": "2024-06-28T16:53:02.155541Z"
    },
    "trusted": true
   },
   "execution_count": 1,
   "outputs": [
    {
     "name": "stdout",
     "text": "Retrieving notices: ...working... done\nChannels:\n - rapidsai\n - nvidia\n - conda-forge\n - defaults\n - pytorch\nPlatform: linux-64\nCollecting package metadata (repodata.json): done\nSolving environment: done\n\n## Package Plan ##\n\n  environment location: /opt/conda\n\n  added / updated specs:\n    - gdown\n\n\nThe following packages will be downloaded:\n\n    package                    |            build\n    ---------------------------|-----------------\n    certifi-2024.6.2           |     pyhd8ed1ab_0         157 KB  conda-forge\n    filelock-3.15.4            |     pyhd8ed1ab_0          17 KB  conda-forge\n    gdown-5.2.0                |     pyhd8ed1ab_0          21 KB  conda-forge\n    openssl-3.3.1              |       h4ab18f5_1         2.8 MB  conda-forge\n    ------------------------------------------------------------\n                                           Total:         3.0 MB\n\nThe following NEW packages will be INSTALLED:\n\n  filelock           conda-forge/noarch::filelock-3.15.4-pyhd8ed1ab_0 \n  gdown              conda-forge/noarch::gdown-5.2.0-pyhd8ed1ab_0 \n\nThe following packages will be UPDATED:\n\n  certifi                             2024.2.2-pyhd8ed1ab_0 --> 2024.6.2-pyhd8ed1ab_0 \n  openssl                                  3.3.0-h4ab18f5_3 --> 3.3.1-h4ab18f5_1 \n\n\n\nDownloading and Extracting Packages:\nopenssl-3.3.1        | 2.8 MB    |                                       |   0% \ncertifi-2024.6.2     | 157 KB    |                                       |   0% \u001B[A\n\ngdown-5.2.0          | 21 KB     |                                       |   0% \u001B[A\u001B[A\n\n\nopenssl-3.3.1        | 2.8 MB    | #2                                    |   3% \u001B[A\u001B[A\u001B[A\ncertifi-2024.6.2     | 157 KB    | ###7                                  |  10% \u001B[A\n\n\nfilelock-3.15.4      | 17 KB     | ##################################### | 100% \u001B[A\u001B[A\u001B[A\n\n\nfilelock-3.15.4      | 17 KB     | ##################################### | 100% \u001B[A\u001B[A\u001B[A\n\ngdown-5.2.0          | 21 KB     | ##################################### | 100% \u001B[A\u001B[A\n\ngdown-5.2.0          | 21 KB     | ##################################### | 100% \u001B[A\u001B[A\n                                                                                \u001B[A\n                                                                                \u001B[A\n\n                                                                                \u001B[A\u001B[A\n\n\n                                                                                \u001B[A\u001B[A\u001B[A\nPreparing transaction: done\nVerifying transaction: done\nExecuting transaction: done\nDownloading...\nFrom: https://drive.google.com/uc?id=1i6gsJch1_Odnz-ddqGQzpakD5mowwx-6\nTo: /kaggle/working/Spider.rar\n100%|██████████████████████████████████████| 10.8M/10.8M [00:00<00:00, 80.7MB/s]\n",
     "output_type": "stream"
    }
   ]
  },
  {
   "cell_type": "code",
   "source": [
    "!apt install -y python-opengl ffmpeg > /dev/null 2>&1\n",
    "\n",
    "# !apt install -y xvfb\n",
    "%pip install pyvirtualdisplay\n",
    "from pyvirtualdisplay import Display\n",
    "Display(visible=False, size=(1400, 900)).start()"
   ],
   "metadata": {
    "execution": {
     "iopub.status.busy": "2024-06-28T16:53:02.158554Z",
     "iopub.execute_input": "2024-06-28T16:53:02.158868Z",
     "iopub.status.idle": "2024-06-28T16:53:28.046601Z",
     "shell.execute_reply.started": "2024-06-28T16:53:02.158840Z",
     "shell.execute_reply": "2024-06-28T16:53:28.045615Z"
    },
    "trusted": true
   },
   "execution_count": 2,
   "outputs": [
    {
     "name": "stdout",
     "text": "Collecting pyvirtualdisplay\n  Downloading PyVirtualDisplay-3.0-py3-none-any.whl.metadata (943 bytes)\nDownloading PyVirtualDisplay-3.0-py3-none-any.whl (15 kB)\nInstalling collected packages: pyvirtualdisplay\nSuccessfully installed pyvirtualdisplay-3.0\nNote: you may need to restart the kernel to use updated packages.\n",
     "output_type": "stream"
    },
    {
     "execution_count": 2,
     "output_type": "execute_result",
     "data": {
      "text/plain": "<pyvirtualdisplay.display.Display at 0x7e78edfa5ed0>"
     },
     "metadata": {}
    }
   ]
  },
  {
   "cell_type": "code",
   "source": [
    "# !pip install -U \"jax[cuda12]\"\n",
    "!pip install mujoco\n",
    "!pip install mujoco_mjx\n",
    "!pip install brax"
   ],
   "metadata": {
    "execution": {
     "iopub.status.busy": "2024-06-28T16:53:28.048019Z",
     "iopub.execute_input": "2024-06-28T16:53:28.048746Z",
     "iopub.status.idle": "2024-06-28T16:54:14.730729Z",
     "shell.execute_reply.started": "2024-06-28T16:53:28.048702Z",
     "shell.execute_reply": "2024-06-28T16:54:14.729801Z"
    },
    "trusted": true
   },
   "execution_count": 3,
   "outputs": [
    {
     "name": "stdout",
     "text": "Collecting mujoco\n  Downloading mujoco-3.1.6-cp310-cp310-manylinux_2_17_x86_64.manylinux2014_x86_64.whl.metadata (44 kB)\n\u001B[2K     \u001B[90m━━━━━━━━━━━━━━━━━━━━━━━━━━━━━━━━━━━━━━━━\u001B[0m \u001B[32m44.3/44.3 kB\u001B[0m \u001B[31m2.4 MB/s\u001B[0m eta \u001B[36m0:00:00\u001B[0m\n\u001B[?25hRequirement already satisfied: absl-py in /opt/conda/lib/python3.10/site-packages (from mujoco) (1.4.0)\nRequirement already satisfied: etils[epath] in /opt/conda/lib/python3.10/site-packages (from mujoco) (1.6.0)\nCollecting glfw (from mujoco)\n  Downloading glfw-2.7.0-py2.py27.py3.py30.py31.py32.py33.py34.py35.py36.py37.py38-none-manylinux2014_x86_64.whl.metadata (5.4 kB)\nRequirement already satisfied: numpy in /opt/conda/lib/python3.10/site-packages (from mujoco) (1.26.4)\nCollecting pyopengl (from mujoco)\n  Downloading PyOpenGL-3.1.7-py3-none-any.whl.metadata (3.2 kB)\nRequirement already satisfied: fsspec in /opt/conda/lib/python3.10/site-packages (from etils[epath]->mujoco) (2024.3.1)\nRequirement already satisfied: importlib_resources in /opt/conda/lib/python3.10/site-packages (from etils[epath]->mujoco) (6.1.1)\nRequirement already satisfied: typing_extensions in /opt/conda/lib/python3.10/site-packages (from etils[epath]->mujoco) (4.9.0)\nRequirement already satisfied: zipp in /opt/conda/lib/python3.10/site-packages (from etils[epath]->mujoco) (3.17.0)\nDownloading mujoco-3.1.6-cp310-cp310-manylinux_2_17_x86_64.manylinux2014_x86_64.whl (5.5 MB)\n\u001B[2K   \u001B[90m━━━━━━━━━━━━━━━━━━━━━━━━━━━━━━━━━━━━━━━━\u001B[0m \u001B[32m5.5/5.5 MB\u001B[0m \u001B[31m74.9 MB/s\u001B[0m eta \u001B[36m0:00:00\u001B[0m:00:01\u001B[0m00:01\u001B[0m\n\u001B[?25hDownloading glfw-2.7.0-py2.py27.py3.py30.py31.py32.py33.py34.py35.py36.py37.py38-none-manylinux2014_x86_64.whl (211 kB)\n\u001B[2K   \u001B[90m━━━━━━━━━━━━━━━━━━━━━━━━━━━━━━━━━━━━━━━━\u001B[0m \u001B[32m211.8/211.8 kB\u001B[0m \u001B[31m14.1 MB/s\u001B[0m eta \u001B[36m0:00:00\u001B[0m\n\u001B[?25hDownloading PyOpenGL-3.1.7-py3-none-any.whl (2.4 MB)\n\u001B[2K   \u001B[90m━━━━━━━━━━━━━━━━━━━━━━━━━━━━━━━━━━━━━━━━\u001B[0m \u001B[32m2.4/2.4 MB\u001B[0m \u001B[31m66.9 MB/s\u001B[0m eta \u001B[36m0:00:00\u001B[0m:00:01\u001B[0m\n\u001B[?25hInstalling collected packages: pyopengl, glfw, mujoco\nSuccessfully installed glfw-2.7.0 mujoco-3.1.6 pyopengl-3.1.7\nCollecting mujoco_mjx\n  Downloading mujoco_mjx-3.1.6-py3-none-any.whl.metadata (3.4 kB)\nRequirement already satisfied: absl-py in /opt/conda/lib/python3.10/site-packages (from mujoco_mjx) (1.4.0)\nRequirement already satisfied: etils[epath] in /opt/conda/lib/python3.10/site-packages (from mujoco_mjx) (1.6.0)\nRequirement already satisfied: jax in /opt/conda/lib/python3.10/site-packages (from mujoco_mjx) (0.4.26)\nRequirement already satisfied: jaxlib in /opt/conda/lib/python3.10/site-packages (from mujoco_mjx) (0.4.26.dev20240504)\nRequirement already satisfied: mujoco>=3.1.6.dev0 in /opt/conda/lib/python3.10/site-packages (from mujoco_mjx) (3.1.6)\nRequirement already satisfied: scipy in /opt/conda/lib/python3.10/site-packages (from mujoco_mjx) (1.11.4)\nCollecting trimesh (from mujoco_mjx)\n  Downloading trimesh-4.4.1-py3-none-any.whl.metadata (18 kB)\nRequirement already satisfied: glfw in /opt/conda/lib/python3.10/site-packages (from mujoco>=3.1.6.dev0->mujoco_mjx) (2.7.0)\nRequirement already satisfied: numpy in /opt/conda/lib/python3.10/site-packages (from mujoco>=3.1.6.dev0->mujoco_mjx) (1.26.4)\nRequirement already satisfied: pyopengl in /opt/conda/lib/python3.10/site-packages (from mujoco>=3.1.6.dev0->mujoco_mjx) (3.1.7)\nRequirement already satisfied: fsspec in /opt/conda/lib/python3.10/site-packages (from etils[epath]->mujoco_mjx) (2024.3.1)\nRequirement already satisfied: importlib_resources in /opt/conda/lib/python3.10/site-packages (from etils[epath]->mujoco_mjx) (6.1.1)\nRequirement already satisfied: typing_extensions in /opt/conda/lib/python3.10/site-packages (from etils[epath]->mujoco_mjx) (4.9.0)\nRequirement already satisfied: zipp in /opt/conda/lib/python3.10/site-packages (from etils[epath]->mujoco_mjx) (3.17.0)\nRequirement already satisfied: ml-dtypes>=0.2.0 in /opt/conda/lib/python3.10/site-packages (from jax->mujoco_mjx) (0.2.0)\nRequirement already satisfied: opt-einsum in /opt/conda/lib/python3.10/site-packages (from jax->mujoco_mjx) (3.3.0)\nDownloading mujoco_mjx-3.1.6-py3-none-any.whl (6.6 MB)\n\u001B[2K   \u001B[90m━━━━━━━━━━━━━━━━━━━━━━━━━━━━━━━━━━━━━━━━\u001B[0m \u001B[32m6.6/6.6 MB\u001B[0m \u001B[31m71.7 MB/s\u001B[0m eta \u001B[36m0:00:00\u001B[0m:00:01\u001B[0m0:01\u001B[0m\n\u001B[?25hDownloading trimesh-4.4.1-py3-none-any.whl (694 kB)\n\u001B[2K   \u001B[90m━━━━━━━━━━━━━━━━━━━━━━━━━━━━━━━━━━━━━━━━\u001B[0m \u001B[32m694.7/694.7 kB\u001B[0m \u001B[31m33.5 MB/s\u001B[0m eta \u001B[36m0:00:00\u001B[0m\n\u001B[?25hInstalling collected packages: trimesh, mujoco_mjx\nSuccessfully installed mujoco_mjx-3.1.6 trimesh-4.4.1\nCollecting brax\n  Downloading brax-0.10.5-py3-none-any.whl.metadata (7.7 kB)\nRequirement already satisfied: absl-py in /opt/conda/lib/python3.10/site-packages (from brax) (1.4.0)\nCollecting dm-env (from brax)\n  Downloading dm_env-1.6-py3-none-any.whl.metadata (966 bytes)\nRequirement already satisfied: etils in /opt/conda/lib/python3.10/site-packages (from brax) (1.6.0)\nRequirement already satisfied: flask in /opt/conda/lib/python3.10/site-packages (from brax) (3.0.3)\nCollecting flask-cors (from brax)\n  Downloading Flask_Cors-4.0.1-py2.py3-none-any.whl.metadata (5.5 kB)\nRequirement already satisfied: flax in /opt/conda/lib/python3.10/site-packages (from brax) (0.8.4)\nRequirement already satisfied: grpcio in /opt/conda/lib/python3.10/site-packages (from brax) (1.59.3)\nRequirement already satisfied: gym in /opt/conda/lib/python3.10/site-packages (from brax) (0.26.2)\nRequirement already satisfied: jax>=0.4.6 in /opt/conda/lib/python3.10/site-packages (from brax) (0.4.26)\nRequirement already satisfied: jaxlib>=0.4.6 in /opt/conda/lib/python3.10/site-packages (from brax) (0.4.26.dev20240504)\nCollecting jaxopt (from brax)\n  Downloading jaxopt-0.8.3-py3-none-any.whl.metadata (2.6 kB)\nRequirement already satisfied: jinja2 in /opt/conda/lib/python3.10/site-packages (from brax) (3.1.2)\nCollecting ml-collections (from brax)\n  Downloading ml_collections-0.1.1.tar.gz (77 kB)\n\u001B[2K     \u001B[90m━━━━━━━━━━━━━━━━━━━━━━━━━━━━━━━━━━━━━━━━\u001B[0m \u001B[32m77.9/77.9 kB\u001B[0m \u001B[31m4.0 MB/s\u001B[0m eta \u001B[36m0:00:00\u001B[0m\n\u001B[?25h  Preparing metadata (setup.py) ... \u001B[?25ldone\n\u001B[?25hRequirement already satisfied: mujoco in /opt/conda/lib/python3.10/site-packages (from brax) (3.1.6)\nRequirement already satisfied: mujoco-mjx in /opt/conda/lib/python3.10/site-packages (from brax) (3.1.6)\nRequirement already satisfied: numpy in /opt/conda/lib/python3.10/site-packages (from brax) (1.26.4)\nRequirement already satisfied: optax in /opt/conda/lib/python3.10/site-packages (from brax) (0.2.2)\nRequirement already satisfied: orbax-checkpoint in /opt/conda/lib/python3.10/site-packages (from brax) (0.5.15)\nRequirement already satisfied: Pillow in /opt/conda/lib/python3.10/site-packages (from brax) (9.5.0)\nCollecting pytinyrenderer (from brax)\n  Downloading pytinyrenderer-0.0.14-cp310-cp310-manylinux_2_17_x86_64.manylinux2014_x86_64.whl.metadata (1.2 kB)\nRequirement already satisfied: scipy in /opt/conda/lib/python3.10/site-packages (from brax) (1.11.4)\nRequirement already satisfied: tensorboardX in /opt/conda/lib/python3.10/site-packages (from brax) (2.6.2.2)\nRequirement already satisfied: trimesh in /opt/conda/lib/python3.10/site-packages (from brax) (4.4.1)\nRequirement already satisfied: typing-extensions in /opt/conda/lib/python3.10/site-packages (from brax) (4.9.0)\nRequirement already satisfied: ml-dtypes>=0.2.0 in /opt/conda/lib/python3.10/site-packages (from jax>=0.4.6->brax) (0.2.0)\nRequirement already satisfied: opt-einsum in /opt/conda/lib/python3.10/site-packages (from jax>=0.4.6->brax) (3.3.0)\nRequirement already satisfied: dm-tree in /opt/conda/lib/python3.10/site-packages (from dm-env->brax) (0.1.8)\nRequirement already satisfied: Werkzeug>=3.0.0 in /opt/conda/lib/python3.10/site-packages (from flask->brax) (3.0.3)\nRequirement already satisfied: itsdangerous>=2.1.2 in /opt/conda/lib/python3.10/site-packages (from flask->brax) (2.2.0)\nRequirement already satisfied: click>=8.1.3 in /opt/conda/lib/python3.10/site-packages (from flask->brax) (8.1.7)\nRequirement already satisfied: blinker>=1.6.2 in /opt/conda/lib/python3.10/site-packages (from flask->brax) (1.8.2)\nRequirement already satisfied: MarkupSafe>=2.0 in /opt/conda/lib/python3.10/site-packages (from jinja2->brax) (2.1.3)\nRequirement already satisfied: msgpack in /opt/conda/lib/python3.10/site-packages (from flax->brax) (1.0.7)\nRequirement already satisfied: tensorstore in /opt/conda/lib/python3.10/site-packages (from flax->brax) (0.1.60)\nRequirement already satisfied: rich>=11.1 in /opt/conda/lib/python3.10/site-packages (from flax->brax) (13.7.0)\nRequirement already satisfied: PyYAML>=5.4.1 in /opt/conda/lib/python3.10/site-packages (from flax->brax) (6.0.1)\nRequirement already satisfied: cloudpickle>=1.2.0 in /opt/conda/lib/python3.10/site-packages (from gym->brax) (2.2.1)\nRequirement already satisfied: gym-notices>=0.0.4 in /opt/conda/lib/python3.10/site-packages (from gym->brax) (0.0.8)\nRequirement already satisfied: six in /opt/conda/lib/python3.10/site-packages (from ml-collections->brax) (1.16.0)\nCollecting contextlib2 (from ml-collections->brax)\n  Downloading contextlib2-21.6.0-py2.py3-none-any.whl.metadata (4.1 kB)\nRequirement already satisfied: glfw in /opt/conda/lib/python3.10/site-packages (from mujoco->brax) (2.7.0)\nRequirement already satisfied: pyopengl in /opt/conda/lib/python3.10/site-packages (from mujoco->brax) (3.1.7)\nRequirement already satisfied: chex>=0.1.86 in /opt/conda/lib/python3.10/site-packages (from optax->brax) (0.1.86)\nRequirement already satisfied: nest_asyncio in /opt/conda/lib/python3.10/site-packages (from orbax-checkpoint->brax) (1.5.8)\nRequirement already satisfied: protobuf in /opt/conda/lib/python3.10/site-packages (from orbax-checkpoint->brax) (3.20.3)\nRequirement already satisfied: packaging in /opt/conda/lib/python3.10/site-packages (from tensorboardX->brax) (21.3)\nRequirement already satisfied: toolz>=0.9.0 in /opt/conda/lib/python3.10/site-packages (from chex>=0.1.86->optax->brax) (0.12.1)\nRequirement already satisfied: markdown-it-py>=2.2.0 in /opt/conda/lib/python3.10/site-packages (from rich>=11.1->flax->brax) (3.0.0)\nRequirement already satisfied: pygments<3.0.0,>=2.13.0 in /opt/conda/lib/python3.10/site-packages (from rich>=11.1->flax->brax) (2.17.2)\nCollecting ml-dtypes>=0.2.0 (from jax>=0.4.6->brax)\n  Downloading ml_dtypes-0.4.0-cp310-cp310-manylinux_2_17_x86_64.manylinux2014_x86_64.whl.metadata (20 kB)\nRequirement already satisfied: fsspec in /opt/conda/lib/python3.10/site-packages (from etils[epath,epy]->orbax-checkpoint->brax) (2024.3.1)\nRequirement already satisfied: importlib_resources in /opt/conda/lib/python3.10/site-packages (from etils[epath,epy]->orbax-checkpoint->brax) (6.1.1)\nRequirement already satisfied: zipp in /opt/conda/lib/python3.10/site-packages (from etils[epath,epy]->orbax-checkpoint->brax) (3.17.0)\nRequirement already satisfied: pyparsing!=3.0.5,>=2.0.2 in /opt/conda/lib/python3.10/site-packages (from packaging->tensorboardX->brax) (3.1.1)\nRequirement already satisfied: mdurl~=0.1 in /opt/conda/lib/python3.10/site-packages (from markdown-it-py>=2.2.0->rich>=11.1->flax->brax) (0.1.2)\nDownloading brax-0.10.5-py3-none-any.whl (998 kB)\n\u001B[2K   \u001B[90m━━━━━━━━━━━━━━━━━━━━━━━━━━━━━━━━━━━━━━━━\u001B[0m \u001B[32m998.9/998.9 kB\u001B[0m \u001B[31m32.7 MB/s\u001B[0m eta \u001B[36m0:00:00\u001B[0m\n\u001B[?25hDownloading dm_env-1.6-py3-none-any.whl (26 kB)\nDownloading Flask_Cors-4.0.1-py2.py3-none-any.whl (14 kB)\nDownloading jaxopt-0.8.3-py3-none-any.whl (172 kB)\n\u001B[2K   \u001B[90m━━━━━━━━━━━━━━━━━━━━━━━━━━━━━━━━━━━━━━━━\u001B[0m \u001B[32m172.3/172.3 kB\u001B[0m \u001B[31m2.3 MB/s\u001B[0m eta \u001B[36m0:00:00\u001B[0ma \u001B[36m0:00:01\u001B[0m\n\u001B[?25hDownloading pytinyrenderer-0.0.14-cp310-cp310-manylinux_2_17_x86_64.manylinux2014_x86_64.whl (1.9 MB)\n\u001B[2K   \u001B[90m━━━━━━━━━━━━━━━━━━━━━━━━━━━━━━━━━━━━━━━━\u001B[0m \u001B[32m1.9/1.9 MB\u001B[0m \u001B[31m62.3 MB/s\u001B[0m eta \u001B[36m0:00:00\u001B[0m\n\u001B[?25hDownloading ml_dtypes-0.4.0-cp310-cp310-manylinux_2_17_x86_64.manylinux2014_x86_64.whl (2.2 MB)\n\u001B[2K   \u001B[90m━━━━━━━━━━━━━━━━━━━━━━━━━━━━━━━━━━━━━━━━\u001B[0m \u001B[32m2.2/2.2 MB\u001B[0m \u001B[31m71.3 MB/s\u001B[0m eta \u001B[36m0:00:00\u001B[0m\n\u001B[?25hDownloading contextlib2-21.6.0-py2.py3-none-any.whl (13 kB)\nBuilding wheels for collected packages: ml-collections\n  Building wheel for ml-collections (setup.py) ... \u001B[?25ldone\n\u001B[?25h  Created wheel for ml-collections: filename=ml_collections-0.1.1-py3-none-any.whl size=94507 sha256=3ddd0179cd9f7fdf0877fa0d2c08b3b1b8eefca500da06efae3e6331c08503bb\n  Stored in directory: /root/.cache/pip/wheels/7b/89/c9/a9b87790789e94aadcfc393c283e3ecd5ab916aed0a31be8fe\nSuccessfully built ml-collections\nInstalling collected packages: pytinyrenderer, ml-dtypes, dm-env, contextlib2, ml-collections, jaxopt, flask-cors, brax\n  Attempting uninstall: ml-dtypes\n    Found existing installation: ml-dtypes 0.2.0\n    Uninstalling ml-dtypes-0.2.0:\n      Successfully uninstalled ml-dtypes-0.2.0\n\u001B[31mERROR: pip's dependency resolver does not currently take into account all the packages that are installed. This behaviour is the source of the following dependency conflicts.\ntensorflow-decision-forests 1.8.1 requires wurlitzer, which is not installed.\ntensorflow 2.15.0 requires keras<2.16,>=2.15.0, but you have keras 3.3.3 which is incompatible.\ntensorflow 2.15.0 requires ml-dtypes~=0.2.0, but you have ml-dtypes 0.4.0 which is incompatible.\u001B[0m\u001B[31m\n\u001B[0mSuccessfully installed brax-0.10.5 contextlib2-21.6.0 dm-env-1.6 flask-cors-4.0.1 jaxopt-0.8.3 ml-collections-0.1.1 ml-dtypes-0.4.0 pytinyrenderer-0.0.14\n",
     "output_type": "stream"
    }
   ]
  },
  {
   "cell_type": "code",
   "source": [
    "#@title Check if MuJoCo installation was successful\n",
    "import os\n",
    "\n",
    "\n",
    "# Configure MuJoCo to use the EGL rendering backend (requires GPU)\n",
    "print('Setting environment variable to use GPU rendering:')\n",
    "%env MUJOCO_GL=glfw\n",
    "\n",
    "try:\n",
    "  print('Checking that the installation succeeded:')\n",
    "  import mujoco\n",
    "  mujoco.MjModel.from_xml_string('<mujoco/>')\n",
    "except Exception as e:\n",
    "  raise e from RuntimeError(\n",
    "      'Something went wrong during installation. Check the shell output above '\n",
    "      'for more information.\\n'\n",
    "      'If using a hosted Colab runtime, make sure you enable GPU acceleration '\n",
    "      'by going to the Runtime menu and selecting \"Choose runtime type\".')\n",
    "\n",
    "print('Installation successful.')\n",
    "\n",
    "# Tell XLA to use Triton GEMM, this improves steps/sec by ~30% on some GPUs\n",
    "os.environ['XLA_FLAGS'] = (\n",
    "    '--xla_gpu_enable_triton_softmax_fusion=true '\n",
    "    '--xla_gpu_triton_gemm_any=True '\n",
    "#     '--xla_gpu_enable_async_collectives=true '\n",
    "#     '--xla_gpu_enable_latency_hiding_scheduler=true '\n",
    "#     '--xla_gpu_enable_highest_priority_async_stream=true '\n",
    ")\n"
   ],
   "metadata": {
    "execution": {
     "iopub.status.busy": "2024-06-28T16:54:14.733319Z",
     "iopub.execute_input": "2024-06-28T16:54:14.733710Z",
     "iopub.status.idle": "2024-06-28T16:54:14.935794Z",
     "shell.execute_reply.started": "2024-06-28T16:54:14.733679Z",
     "shell.execute_reply": "2024-06-28T16:54:14.934865Z"
    },
    "trusted": true
   },
   "execution_count": 4,
   "outputs": [
    {
     "name": "stdout",
     "text": "Setting environment variable to use GPU rendering:\nenv: MUJOCO_GL=glfw\nChecking that the installation succeeded:\nInstallation successful.\n",
     "output_type": "stream"
    }
   ]
  },
  {
   "cell_type": "code",
   "source": [
    "!sudo apt install unrar\n",
    "!pip install patool\n",
    "import patoolib\n",
    "patoolib.extract_archive(\"/kaggle/working/Spider.rar\",outdir='/kaggle/working/')"
   ],
   "metadata": {
    "execution": {
     "iopub.status.busy": "2024-06-28T16:54:14.936976Z",
     "iopub.execute_input": "2024-06-28T16:54:14.937335Z",
     "iopub.status.idle": "2024-06-28T16:54:33.541236Z",
     "shell.execute_reply.started": "2024-06-28T16:54:14.937289Z",
     "shell.execute_reply": "2024-06-28T16:54:33.540289Z"
    },
    "trusted": true
   },
   "execution_count": 5,
   "outputs": [
    {
     "name": "stdout",
     "text": "Reading package lists... Done\nBuilding dependency tree       \nReading state information... Done\nThe following NEW packages will be installed:\n  unrar\n0 upgraded, 1 newly installed, 0 to remove and 75 not upgraded.\nNeed to get 113 kB of archives.\nAfter this operation, 406 kB of additional disk space will be used.\nGet:1 http://archive.ubuntu.com/ubuntu focal/multiverse amd64 unrar amd64 1:5.6.6-2build1 [113 kB]\nFetched 113 kB in 0s (1664 kB/s)\u001B[0m\u001B[33m\n\n\u001B7\u001B[0;23r\u001B8\u001B[1ASelecting previously unselected package unrar.\n(Reading database ... 116948 files and directories currently installed.)\nPreparing to unpack .../unrar_1%3a5.6.6-2build1_amd64.deb ...\n\u001B7\u001B[24;0f\u001B[42m\u001B[30mProgress: [  0%]\u001B[49m\u001B[39m [..........................................................] \u001B8\u001B7\u001B[24;0f\u001B[42m\u001B[30mProgress: [ 20%]\u001B[49m\u001B[39m [###########...............................................] \u001B8Unpacking unrar (1:5.6.6-2build1) ...\n\u001B7\u001B[24;0f\u001B[42m\u001B[30mProgress: [ 40%]\u001B[49m\u001B[39m [#######################...................................] \u001B8Setting up unrar (1:5.6.6-2build1) ...\n\u001B7\u001B[24;0f\u001B[42m\u001B[30mProgress: [ 60%]\u001B[49m\u001B[39m [##################################........................] \u001B8update-alternatives: using /usr/bin/unrar-nonfree to provide /usr/bin/unrar (unrar) in auto mode\nupdate-alternatives: warning: skip creation of /usr/share/man/man1/unrar.1.gz because associated file /usr/share/man/man1/unrar-nonfree.1.gz (of link group unrar) doesn't exist\n\u001B7\u001B[24;0f\u001B[42m\u001B[30mProgress: [ 80%]\u001B[49m\u001B[39m [##############################################............] \u001B8Processing triggers for man-db (2.9.1-1) ...\n\n\u001B7\u001B[0;24r\u001B8\u001B[1A\u001B[JCollecting patool\n  Downloading patool-2.3.0-py2.py3-none-any.whl.metadata (4.0 kB)\nDownloading patool-2.3.0-py2.py3-none-any.whl (96 kB)\n\u001B[2K   \u001B[90m━━━━━━━━━━━━━━━━━━━━━━━━━━━━━━━━━━━━━━━━\u001B[0m \u001B[32m96.6/96.6 kB\u001B[0m \u001B[31m4.6 MB/s\u001B[0m eta \u001B[36m0:00:00\u001B[0m\n\u001B[?25hInstalling collected packages: patool\nSuccessfully installed patool-2.3.0\n",
     "output_type": "stream"
    },
    {
     "name": "stderr",
     "text": "INFO patool: Extracting /kaggle/working/Spider.rar ...\nINFO patool: running /usr/bin/unrar x -- /kaggle/working/Spider.rar\nINFO patool:     with cwd='/kaggle/working/', input=''\nINFO patool: ... /kaggle/working/Spider.rar extracted to `/kaggle/working/'.\n",
     "output_type": "stream"
    },
    {
     "execution_count": 5,
     "output_type": "execute_result",
     "data": {
      "text/plain": "'/kaggle/working/'"
     },
     "metadata": {}
    }
   ]
  },
  {
   "cell_type": "code",
   "source": [
    "#@title Import packages for plotting and creating graphics\n",
    "import time\n",
    "import itertools\n",
    "import numpy as np\n",
    "import random\n",
    "from typing import Callable, NamedTuple, Optional, Union, List\n",
    "\n",
    "# Graphics and plotting.\n",
    "print('Installing mediapy:')\n",
    "# !command -v ffmpeg >/dev/null || (apt update && apt install -y ffmpeg)\n",
    "!pip install -q mediapy\n",
    "import mediapy as media\n",
    "import matplotlib.pyplot as plt\n",
    "\n",
    "# More legible printing from numpy.\n",
    "np.set_printoptions(precision=3, suppress=True, linewidth=100)"
   ],
   "metadata": {
    "execution": {
     "iopub.status.busy": "2024-06-28T16:54:33.542892Z",
     "iopub.execute_input": "2024-06-28T16:54:33.543332Z",
     "iopub.status.idle": "2024-06-28T16:54:46.444751Z",
     "shell.execute_reply.started": "2024-06-28T16:54:33.543291Z",
     "shell.execute_reply": "2024-06-28T16:54:46.443102Z"
    },
    "trusted": true
   },
   "execution_count": 6,
   "outputs": [
    {
     "name": "stdout",
     "text": "Installing mediapy:\n",
     "output_type": "stream"
    }
   ]
  },
  {
   "cell_type": "code",
   "source": [
    "#@title Import MuJoCo, MJX, and Brax\n",
    "from datetime import datetime\n",
    "import time\n",
    "from etils import epath\n",
    "import functools\n",
    "from IPython.display import HTML\n",
    "from typing import Any, Dict, Sequence, Tuple, Union\n",
    "import os\n",
    "from ml_collections import config_dict\n",
    "import math\n",
    "\n",
    "from gymnasium.vector import VectorEnv\n",
    "from gymnasium import spaces\n",
    "\n",
    "import jax\n",
    "from jax import numpy as jp\n",
    "import numpy as np\n",
    "from flax.training import orbax_utils\n",
    "from flax import struct\n",
    "from matplotlib import pyplot as plt\n",
    "import mediapy as media\n",
    "from orbax import checkpoint as ocp\n",
    "\n",
    "import mujoco\n",
    "from mujoco import mjx\n",
    "\n"
   ],
   "metadata": {
    "execution": {
     "iopub.status.busy": "2024-06-28T16:54:46.452285Z",
     "iopub.execute_input": "2024-06-28T16:54:46.455649Z",
     "iopub.status.idle": "2024-06-28T16:54:49.123612Z",
     "shell.execute_reply.started": "2024-06-28T16:54:46.455581Z",
     "shell.execute_reply": "2024-06-28T16:54:49.122768Z"
    },
    "trusted": true
   },
   "execution_count": 7,
   "outputs": []
  },
  {
   "cell_type": "code",
   "source": [
    "class HexapodV0_3VecEnv(VectorEnv):\n",
    "    metadata = {\"render_modes\": [\"rgb_array\"], \"render_fps\": 30}\n",
    "\n",
    "    def __init__(self,\n",
    "                 xml_path,\n",
    "                 max_steps,\n",
    "                 timeStepsPerControlStep=timeStepsPerControlStep,\n",
    "                 num_envs=num_envs,\n",
    "                 terminateWhenTilt=True,\n",
    "                 terminateWhenTiltGreaterThan=30 * math.pi / 180,\n",
    "                 baseTiltSigma=0.5,\n",
    "                 baseTiltCoef=1,\n",
    "\n",
    "                 terminateWhenFumersColide=False,\n",
    "                 femurCollisionSigma=0.06,\n",
    "                 femurCollisionCoef=0,\n",
    "\n",
    "                 correctDirectionSigma=0.3,\n",
    "                 correctDirectionWeight=1,\n",
    "                 deviationAngleSigma=0.3,\n",
    "                 deviationAngleWeight=1,\n",
    "\n",
    "                 baseHeightSigma=0.027,\n",
    "                 baseHeightCoef=1,\n",
    "                 terminateWhenLow=True,\n",
    "                 baseHeightLowerLimit=0.15,\n",
    "                 baseOscillationSigma=0.5,\n",
    "                 baseOscillationCoef=1.0,\n",
    "\n",
    "                 rewardForTibiaTip=True,\n",
    "                 tibiaRewardSigma=0.05,\n",
    "                 tibiaRewardCoef=0,\n",
    "\n",
    "                 powerCoef=0.001,\n",
    "                 continuityCoef=0.5,\n",
    "\n",
    "                 includeBaseAngularVels=True,\n",
    "                 includeTibiaTipSensors=False,\n",
    "                 nStacks=3,\n",
    "                 physics_steps_per_control_step=10,\n",
    "\n",
    "                 resetPosLowHigh=[jp.array([-0.2, -0.2, 0.23]), jp.array([0.2, 0.2, 0.4])],\n",
    "                 resetOriLowHigh=[jp.array([-math.pi / 12, -math.pi / 12, -math.pi]),\n",
    "                                  jp.array([math.pi / 12, math.pi / 12, -math.pi])],\n",
    "                 resetJointsPosLowHigh=[jp.array([-math.pi / 12] * 18), jp.array([math.pi / 12] * 18)],\n",
    "                 resetJointsVelsLowHigh=[jp.array([0.] * 24), jp.array([0.3] * 24)],\n",
    "                 **kwargs\n",
    "                 ):\n",
    "        self.mj_model = mujoco.MjModel.from_xml_path(xml_path)\n",
    "        self.mj_model.opt.solver = mujoco.mjtSolver.mjSOL_NEWTON\n",
    "        self.mj_model.opt.iterations = 6\n",
    "        self.mj_model.opt.ls_iterations = 6\n",
    "        self.mj_model.opt.timestep = 0.002\n",
    "\n",
    "        self.mjx_model = mjx.put_model(self.mj_model)\n",
    "        self.timeStepsPerControlStep = timeStepsPerControlStep\n",
    "\n",
    "        low_act_single = np.array([-math.pi / 3] * 18, dtype=np.float32)\n",
    "        high_act_single = np.array([math.pi / 3] * 18, dtype=np.float32)\n",
    "        single_action_space = spaces.Box(low=low_act_single, high=high_act_single, dtype=np.float32)\n",
    "\n",
    "        low_obs_single = np.array([-math.inf] * 3 + [-math.pi / 3] * 18, dtype=np.float32)\n",
    "        high_obs_single = np.array([math.inf] * 3 + [math.pi / 3] * 18, dtype=np.float32)\n",
    "        single_observation_space = spaces.Box(low=low_obs_single, high=high_obs_single, dtype=np.float32)\n",
    "\n",
    "        super().__init__(num_envs, single_observation_space, single_action_space)\n",
    "\n",
    "        self.rng1 = jax.random.PRNGKey(1)\n",
    "        self.rng2 = jax.random.PRNGKey(2)\n",
    "\n",
    "        self._resetPosLowHigh = resetPosLowHigh\n",
    "        self._resetOriLowHigh = resetOriLowHigh\n",
    "        self._resetJointsPosLowHigh = resetJointsPosLowHigh\n",
    "        self._resetJointsVelsLowHigh = resetJointsVelsLowHigh\n",
    "\n",
    "        self.num_steps = jp.zeros(1)\n",
    "        self.max_steps = jp.array([max_steps])\n",
    "        self.reset_infos = {'reset_mjx_datas': None, 'current_mjx_datas': None}\n",
    "        self.current_mjx_datas = 0\n",
    "\n",
    "        # Mapping and Jitting\n",
    "        # self._reset = jax.vmap(self._reset, in_axes=0)\n",
    "        # self._reset = jax.jit(self._reset)\n",
    "        # self.reset = jax.jit(self.reset)\n",
    "        # self.steps_reset = jax.jit(self.steps_reset)\n",
    "        # self._step = jax.vmap(self._step, in_axes=(0, 0))\n",
    "        # self._step = jax.jit(self._step)\n",
    "        # self.step = jax.jit(self.step)\n",
    "        # self._get_obs = jax.jit(self._get_obs)\n",
    "\n",
    "    def reset(self):\n",
    "        keys = jax.random.split(self.rng1, self.num_envs)\n",
    "        obs, mjx_datas, returned_keys = self._reset(jp.array(keys))\n",
    "        self.rng1 = returned_keys[1]\n",
    "        self.current_mjx_datas = mjx_datas\n",
    "        return obs, {}\n",
    "\n",
    "    def steps_reset(self, key):\n",
    "        keys = jax.random.split(key, self.num_envs)\n",
    "        obs, mjx_datas, returned_keys = self._reset(jp.array(keys))\n",
    "        return obs, {}, mjx_datas, returned_keys[1]\n",
    "\n",
    "    @functools.partial(jax.jit, static_argnums=0)\n",
    "    @functools.partial(jax.vmap, in_axes=(None, 0))\n",
    "    def _reset(self, key):\n",
    "        mjx_data = mjx.make_data(self.mjx_model)\n",
    "\n",
    "        key, rng1, rng2, rng3, rng4, numTransitionsRng, desiredVelRng, desiredAngleRng, transitionStepsRng = jax.random.split(\n",
    "            key, 9)\n",
    "\n",
    "        base_starting_pos = jax.random.uniform(key=rng1, shape=(3,), minval=self._resetPosLowHigh[0],\n",
    "                                               maxval=self._resetPosLowHigh[1])\n",
    "        base_starting_orientation_euler = jax.random.uniform(key=rng2, shape=(3,), minval=self._resetOriLowHigh[0],\n",
    "                                                             maxval=self._resetOriLowHigh[1])\n",
    "        base_starting_orientation = self._euler_to_quaternion(base_starting_orientation_euler)\n",
    "\n",
    "        joints_starting_pos = jax.random.uniform(key=rng3, shape=(18,), minval=self._resetJointsPosLowHigh[0],\n",
    "                                                 maxval=self._resetJointsPosLowHigh[1])\n",
    "\n",
    "        qpos = jp.concatenate((base_starting_pos, base_starting_orientation, joints_starting_pos), axis=0)\n",
    "\n",
    "        qvel = jax.random.uniform(key=rng4, shape=(24,), minval=self._resetJointsVelsLowHigh[0],\n",
    "                                  maxval=self._resetJointsVelsLowHigh[1])\n",
    "\n",
    "        mjx_data = mjx_data.replace(qpos=qpos, qvel=qvel)\n",
    "        # self.reset_info['first_reset_qpos'] = qpos\n",
    "        # self.reset_info['first_reset_qvel'] = qvel\n",
    "\n",
    "        obs = self._get_obs(mjx_data)\n",
    "\n",
    "        return obs, mjx_data, key\n",
    "\n",
    "    def step(self, actions):\n",
    "        actions = jp.array(actions)\n",
    "        obs, rewards, dones, infos, mjx_datas = self._step(actions, self.current_mjx_datas)\n",
    "        infos = {}\n",
    "        self.current_mjx_datas = mjx_datas\n",
    "\n",
    "        reset_condition = jp.any(dones[:, 0])\n",
    "        obs, mjx_datas, key = jax.lax.cond(reset_condition, self.jpwhere_reset, self.jpwhere_no_reset, obs, mjx_datas,\n",
    "                                           self.rng2)\n",
    "        self.current_mjx_datas = mjx_datas\n",
    "        self.rng2 = key\n",
    "        self.num_steps = self.num_steps.at[:].add(1)\n",
    "\n",
    "        return obs, rewards, dones, infos\n",
    "\n",
    "    @functools.partial(jax.jit, static_argnums=0)\n",
    "    def jpwhere_reset(self, obs, mjx_datas, key):\n",
    "        reset_obs, _, reset_mjx_datas, new_key = self.steps_reset(key)\n",
    "        return reset_obs, reset_mjx_datas, new_key\n",
    "\n",
    "    @functools.partial(jax.jit, static_argnums=0)\n",
    "    def jpwhere_no_reset(self, obs, mjx_datas, key):\n",
    "        return obs, mjx_datas, key\n",
    "\n",
    "    @functools.partial(jax.jit, static_argnums=0)\n",
    "    @functools.partial(jax.vmap, in_axes=(None, 0, 0))\n",
    "    def _step(self, action, mjx_data):\n",
    "        mjx_data = mjx_data.replace(ctrl=action)\n",
    "\n",
    "        for _ in range(timeStepsPerControlStep):\n",
    "            mjx_data = mjx.step(self.mjx_model, mjx_data)\n",
    "\n",
    "        obs = self._get_obs(mjx_data)\n",
    "        reward = 0\n",
    "\n",
    "        truncated = self.num_steps == self.max_steps\n",
    "        terminated = jp.array([0], dtype=jp.bool_)\n",
    "        done = truncated | terminated\n",
    "\n",
    "        info = {}\n",
    "\n",
    "        return obs, reward, done, info, mjx_data\n",
    "\n",
    "    @functools.partial(jax.jit, static_argnums=0)\n",
    "    def _get_obs(self, mjx_data):\n",
    "        mjx_data = mjx.forward(self.mjx_model, mjx_data)\n",
    "        base_ang_vel = mjx_data.qvel[3:6]\n",
    "        joints_pos = mjx_data.qpos[7:]\n",
    "\n",
    "        obs = jp.concatenate((base_ang_vel, joints_pos), axis=0)\n",
    "        return obs\n",
    "\n",
    "    def _euler_to_quaternion(self, euler):\n",
    "        \"\"\"Converts Euler angles to quaternion.\"\"\"\n",
    "        roll, pitch, yaw = euler\n",
    "        qx = jp.sin(roll / 2) * jp.cos(pitch / 2) * jp.cos(yaw / 2) - jp.cos(roll / 2) * jp.sin(pitch / 2) * jp.sin(\n",
    "            yaw / 2)\n",
    "        qy = jp.cos(roll / 2) * jp.sin(pitch / 2) * jp.cos(yaw / 2) + jp.sin(roll / 2) * jp.cos(pitch / 2) * jp.sin(\n",
    "            yaw / 2)\n",
    "        qz = jp.cos(roll / 2) * jp.cos(pitch / 2) * jp.sin(yaw / 2) - jp.sin(roll / 2) * jp.sin(pitch / 2) * jp.cos(\n",
    "            yaw / 2)\n",
    "        qw = jp.cos(roll / 2) * jp.cos(pitch / 2) * jp.cos(yaw / 2) + jp.sin(roll / 2) * jp.sin(pitch / 2) * jp.sin(\n",
    "            yaw / 2)\n",
    "        return jp.array([qw, qx, qy, qz])\n",
    "\n",
    "\n",
    "env = HexapodV0_3VecEnv(xml_path=xml_path, num_envs=num_envs, timeStepsPerControlStep=timeStepsPerControlStep, max_steps=20)\n"
   ],
   "metadata": {
    "execution": {
     "iopub.status.busy": "2024-06-28T16:54:49.125372Z",
     "iopub.execute_input": "2024-06-28T16:54:49.125967Z",
     "iopub.status.idle": "2024-06-28T16:54:51.442406Z",
     "shell.execute_reply.started": "2024-06-28T16:54:49.125931Z",
     "shell.execute_reply": "2024-06-28T16:54:51.441321Z"
    },
    "trusted": true
   },
   "execution_count": 8,
   "outputs": []
  },
  {
   "cell_type": "code",
   "source": [
    "obs, _ = env.reset()\n",
    "time_after_reset = time.time()\n",
    "print(obs.shape, '\\n------------------------------------------------------')\n",
    "print(env.current_mjx_datas.qpos.shape, '\\n***************************************************')\n",
    "\n",
    "actions = jax.random.uniform(key=jax.random.PRNGKey(31), shape=(num_envs, 18,),\n",
    "                             minval=jp.array([-0.5] * 18), maxval=jp.array([0.5] * 18))\n",
    "\n",
    "obs, rewards, dones, infos = env.step(actions=actions)\n",
    "time_after_first_action = time.time()\n",
    "print(f'time to jit: {(time_after_first_action - time_after_reset) / 60.}')\n",
    "print(obs.shape, env.num_steps, dones, '\\n------------------------------------------------------')\n",
    "print(env.current_mjx_datas.qpos.shape, '\\n***************************************************')\n",
    "\n",
    "for i in range(5):\n",
    "    time_before_action = time.time()\n",
    "    actions = jax.random.uniform(key=jax.random.PRNGKey(31), shape=(num_envs, 18,),\n",
    "                                 minval=jp.array([-0.5] * 18), maxval=jp.array([0.5] * 18))\n",
    "\n",
    "    obs, rewards, dones, infos = env.step(actions=actions)\n",
    "    time_after_action = time.time()\n",
    "    print(f'time to step: {time_after_action - time_before_action}')\n",
    "    print(obs.shape, env.num_steps, dones, '\\n------------------------------------------------------')\n",
    "    print(env.current_mjx_datas.qpos.shape, '\\n***************************************************')\n"
   ],
   "metadata": {
    "execution": {
     "iopub.status.busy": "2024-06-28T16:54:51.443859Z",
     "iopub.execute_input": "2024-06-28T16:54:51.444189Z"
    },
    "trusted": true
   },
   "execution_count": null,
   "outputs": [
    {
     "name": "stdout",
     "text": "(8192, 21) \n------------------------------------------------------\n(8192, 25) \n***************************************************\ntime to jit: 2.2262113849322\n(8192, 21) \n------------------------------------------------------\n(8192, 25) \n***************************************************\ntime to step: 0.37328600883483887\n(8192, 21) \n------------------------------------------------------\n(8192, 25) \n***************************************************\ntime to step: 0.35549330711364746\n(8192, 21) \n------------------------------------------------------\n(8192, 25) \n***************************************************\ntime to step: 0.3556091785430908\n(8192, 21) \n------------------------------------------------------\n(8192, 25) \n***************************************************\ntime to step: 0.35529446601867676\n(8192, 21) \n------------------------------------------------------\n(8192, 25) \n***************************************************\ntime to step: 0.35476088523864746\n(8192, 21) \n------------------------------------------------------\n(8192, 25) \n***************************************************\ntime to step: 0.3545985221862793\n(8192, 21) \n------------------------------------------------------\n(8192, 25) \n***************************************************\ntime to step: 0.35431671142578125\n(8192, 21) \n------------------------------------------------------\n(8192, 25) \n***************************************************\ntime to step: 0.35418128967285156\n(8192, 21) \n------------------------------------------------------\n(8192, 25) \n***************************************************\ntime to step: 0.3542027473449707\n(8192, 21) \n------------------------------------------------------\n(8192, 25) \n***************************************************\ntime to step: 0.3542022705078125\n(8192, 21) \n------------------------------------------------------\n(8192, 25) \n***************************************************\ntime to step: 0.35407137870788574\n(8192, 21) \n------------------------------------------------------\n(8192, 25) \n***************************************************\ntime to step: 0.3535628318786621\n(8192, 21) \n------------------------------------------------------\n(8192, 25) \n***************************************************\ntime to step: 0.3536214828491211\n(8192, 21) \n------------------------------------------------------\n(8192, 25) \n***************************************************\ntime to step: 0.3535435199737549\n(8192, 21) \n------------------------------------------------------\n(8192, 25) \n***************************************************\ntime to step: 0.35497546195983887\n(8192, 21) \n------------------------------------------------------\n(8192, 25) \n***************************************************\ntime to step: 0.3541743755340576\n(8192, 21) \n------------------------------------------------------\n(8192, 25) \n***************************************************\ntime to step: 0.3539919853210449\n(8192, 21) \n------------------------------------------------------\n(8192, 25) \n***************************************************\ntime to step: 0.35408759117126465\n(8192, 21) \n------------------------------------------------------\n(8192, 25) \n***************************************************\ntime to step: 0.3541114330291748\n(8192, 21) \n------------------------------------------------------\n(8192, 25) \n***************************************************\ntime to step: 0.35399913787841797\n(8192, 21) \n------------------------------------------------------\n(8192, 25) \n***************************************************\ntime to step: 0.3537733554840088\n(8192, 21) \n------------------------------------------------------\n(8192, 25) \n***************************************************\ntime to step: 0.3538234233856201\n(8192, 21) \n------------------------------------------------------\n(8192, 25) \n***************************************************\ntime to step: 0.354175329208374\n(8192, 21) \n------------------------------------------------------\n(8192, 25) \n***************************************************\ntime to step: 0.3540682792663574\n(8192, 21) \n------------------------------------------------------\n(8192, 25) \n***************************************************\ntime to step: 0.35372138023376465\n(8192, 21) \n------------------------------------------------------\n(8192, 25) \n***************************************************\ntime to step: 0.35366344451904297\n(8192, 21) \n------------------------------------------------------\n(8192, 25) \n***************************************************\ntime to step: 0.35393500328063965\n(8192, 21) \n------------------------------------------------------\n(8192, 25) \n***************************************************\ntime to step: 0.3538699150085449\n(8192, 21) \n------------------------------------------------------\n(8192, 25) \n***************************************************\ntime to step: 0.35367655754089355\n(8192, 21) \n------------------------------------------------------\n(8192, 25) \n***************************************************\ntime to step: 0.35373640060424805\n(8192, 21) \n------------------------------------------------------\n(8192, 25) \n***************************************************\ntime to step: 0.35419726371765137\n(8192, 21) \n------------------------------------------------------\n(8192, 25) \n***************************************************\ntime to step: 0.35395050048828125\n(8192, 21) \n------------------------------------------------------\n(8192, 25) \n***************************************************\ntime to step: 0.3548872470855713\n(8192, 21) \n------------------------------------------------------\n(8192, 25) \n***************************************************\ntime to step: 0.35431361198425293\n(8192, 21) \n------------------------------------------------------\n(8192, 25) \n***************************************************\ntime to step: 0.3547232151031494\n(8192, 21) \n------------------------------------------------------\n(8192, 25) \n***************************************************\ntime to step: 0.35450124740600586\n(8192, 21) \n------------------------------------------------------\n(8192, 25) \n***************************************************\ntime to step: 0.35343360900878906\n(8192, 21) \n------------------------------------------------------\n(8192, 25) \n***************************************************\ntime to step: 0.35469651222229004\n(8192, 21) \n------------------------------------------------------\n(8192, 25) \n***************************************************\ntime to step: 0.3543815612792969\n(8192, 21) \n------------------------------------------------------\n(8192, 25) \n***************************************************\ntime to step: 0.3534519672393799\n(8192, 21) \n------------------------------------------------------\n(8192, 25) \n***************************************************\ntime to step: 0.3539290428161621\n(8192, 21) \n------------------------------------------------------\n(8192, 25) \n***************************************************\ntime to step: 0.3542897701263428\n(8192, 21) \n------------------------------------------------------\n(8192, 25) \n***************************************************\ntime to step: 0.3560032844543457\n(8192, 21) \n------------------------------------------------------\n(8192, 25) \n***************************************************\ntime to step: 0.3546926975250244\n(8192, 21) \n------------------------------------------------------\n(8192, 25) \n***************************************************\ntime to step: 0.3542017936706543\n(8192, 21) \n------------------------------------------------------\n(8192, 25) \n***************************************************\ntime to step: 0.35455918312072754\n(8192, 21) \n------------------------------------------------------\n(8192, 25) \n***************************************************\ntime to step: 0.35411715507507324\n(8192, 21) \n------------------------------------------------------\n(8192, 25) \n***************************************************\ntime to step: 0.3547685146331787\n(8192, 21) \n------------------------------------------------------\n(8192, 25) \n***************************************************\ntime to step: 0.35520172119140625\n(8192, 21) \n------------------------------------------------------\n(8192, 25) \n***************************************************\ntime to step: 0.3546779155731201\n(8192, 21) \n------------------------------------------------------\n(8192, 25) \n***************************************************\ntime to step: 0.3541531562805176\n(8192, 21) \n------------------------------------------------------\n(8192, 25) \n***************************************************\ntime to step: 0.35381126403808594\n(8192, 21) \n------------------------------------------------------\n(8192, 25) \n***************************************************\ntime to step: 0.35456275939941406\n(8192, 21) \n------------------------------------------------------\n(8192, 25) \n***************************************************\ntime to step: 0.35449957847595215\n(8192, 21) \n------------------------------------------------------\n(8192, 25) \n***************************************************\ntime to step: 0.35423874855041504\n(8192, 21) \n------------------------------------------------------\n(8192, 25) \n***************************************************\ntime to step: 0.3538212776184082\n(8192, 21) \n------------------------------------------------------\n(8192, 25) \n***************************************************\ntime to step: 0.35468029975891113\n(8192, 21) \n------------------------------------------------------\n(8192, 25) \n***************************************************\ntime to step: 0.35454392433166504\n(8192, 21) \n------------------------------------------------------\n(8192, 25) \n***************************************************\ntime to step: 0.35444045066833496\n(8192, 21) \n------------------------------------------------------\n(8192, 25) \n***************************************************\ntime to step: 0.35439252853393555\n(8192, 21) \n------------------------------------------------------\n(8192, 25) \n***************************************************\ntime to step: 0.3546178340911865\n(8192, 21) \n------------------------------------------------------\n(8192, 25) \n***************************************************\ntime to step: 0.3542301654815674\n(8192, 21) \n------------------------------------------------------\n(8192, 25) \n***************************************************\ntime to step: 0.3540210723876953\n(8192, 21) \n------------------------------------------------------\n(8192, 25) \n***************************************************\ntime to step: 0.3544316291809082\n(8192, 21) \n------------------------------------------------------\n(8192, 25) \n***************************************************\ntime to step: 0.3547093868255615\n(8192, 21) \n------------------------------------------------------\n(8192, 25) \n***************************************************\ntime to step: 0.35425829887390137\n(8192, 21) \n------------------------------------------------------\n(8192, 25) \n***************************************************\ntime to step: 0.35479283332824707\n(8192, 21) \n------------------------------------------------------\n(8192, 25) \n***************************************************\ntime to step: 0.35378313064575195\n(8192, 21) \n------------------------------------------------------\n(8192, 25) \n***************************************************\ntime to step: 0.35346221923828125\n(8192, 21) \n------------------------------------------------------\n(8192, 25) \n***************************************************\ntime to step: 0.35393714904785156\n(8192, 21) \n------------------------------------------------------\n(8192, 25) \n***************************************************\ntime to step: 0.35428690910339355\n(8192, 21) \n------------------------------------------------------\n(8192, 25) \n***************************************************\ntime to step: 0.35448288917541504\n(8192, 21) \n------------------------------------------------------\n(8192, 25) \n***************************************************\ntime to step: 0.3544018268585205\n(8192, 21) \n------------------------------------------------------\n(8192, 25) \n***************************************************\ntime to step: 0.3538088798522949\n(8192, 21) \n------------------------------------------------------\n(8192, 25) \n***************************************************\ntime to step: 0.3545863628387451\n(8192, 21) \n------------------------------------------------------\n(8192, 25) \n***************************************************\ntime to step: 0.35422849655151367\n(8192, 21) \n------------------------------------------------------\n(8192, 25) \n***************************************************\ntime to step: 0.3506762981414795\n(8192, 21) \n------------------------------------------------------\n(8192, 25) \n***************************************************\ntime to step: 0.35428762435913086\n(8192, 21) \n------------------------------------------------------\n(8192, 25) \n***************************************************\ntime to step: 0.35419392585754395\n(8192, 21) \n------------------------------------------------------\n(8192, 25) \n***************************************************\ntime to step: 0.3541746139526367\n(8192, 21) \n------------------------------------------------------\n(8192, 25) \n***************************************************\ntime to step: 0.35424351692199707\n(8192, 21) \n------------------------------------------------------\n(8192, 25) \n***************************************************\ntime to step: 0.35452985763549805\n(8192, 21) \n------------------------------------------------------\n(8192, 25) \n***************************************************\ntime to step: 0.3544921875\n(8192, 21) \n------------------------------------------------------\n(8192, 25) \n***************************************************\ntime to step: 0.3544020652770996\n(8192, 21) \n------------------------------------------------------\n(8192, 25) \n***************************************************\ntime to step: 0.35426759719848633\n(8192, 21) \n------------------------------------------------------\n(8192, 25) \n***************************************************\ntime to step: 0.3464477062225342\n(8192, 21) \n------------------------------------------------------\n(8192, 25) \n***************************************************\ntime to step: 0.35105323791503906\n(8192, 21) \n------------------------------------------------------\n(8192, 25) \n***************************************************\ntime to step: 0.34671783447265625\n(8192, 21) \n------------------------------------------------------\n(8192, 25) \n***************************************************\ntime to step: 0.353832483291626\n(8192, 21) \n------------------------------------------------------\n(8192, 25) \n***************************************************\ntime to step: 0.3459749221801758\n(8192, 21) \n------------------------------------------------------\n(8192, 25) \n***************************************************\ntime to step: 0.3468971252441406\n(8192, 21) \n------------------------------------------------------\n(8192, 25) \n***************************************************\ntime to step: 0.3462824821472168\n(8192, 21) \n------------------------------------------------------\n(8192, 25) \n***************************************************\ntime to step: 0.3495659828186035\n(8192, 21) \n------------------------------------------------------\n(8192, 25) \n***************************************************\ntime to step: 0.3539917469024658\n(8192, 21) \n------------------------------------------------------\n(8192, 25) \n***************************************************\ntime to step: 0.35086536407470703\n(8192, 21) \n------------------------------------------------------\n(8192, 25) \n***************************************************\ntime to step: 0.3536374568939209\n(8192, 21) \n------------------------------------------------------\n(8192, 25) \n***************************************************\ntime to step: 0.34684205055236816\n(8192, 21) \n------------------------------------------------------\n(8192, 25) \n***************************************************\ntime to step: 0.3542459011077881\n(8192, 21) \n------------------------------------------------------\n(8192, 25) \n***************************************************\ntime to step: 0.35439038276672363\n(8192, 21) \n------------------------------------------------------\n(8192, 25) \n***************************************************\n",
     "output_type": "stream"
    }
   ]
  },
  {
   "cell_type": "code",
   "source": [],
   "metadata": {},
   "execution_count": null,
   "outputs": []
  }
 ]
}
